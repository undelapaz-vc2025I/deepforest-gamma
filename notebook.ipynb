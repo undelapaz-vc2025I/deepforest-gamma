{
 "cells": [
  {
   "cell_type": "markdown",
   "metadata": {},
   "source": [
    "# DeepForest: Ejemplo de uso\n",
    "\n",
    "Ejemplo de conteo de árboles con DeepForest en una imagen aérea."
   ]
  },
  {
   "cell_type": "code",
   "execution_count": 1,
   "metadata": {},
   "outputs": [
    {
     "name": "stderr",
     "output_type": "stream",
     "text": [
      "c:\\Users\\overd\\anaconda3\\envs\\DeepForest\\Lib\\site-packages\\tqdm\\auto.py:21: TqdmWarning: IProgress not found. Please update jupyter and ipywidgets. See https://ipywidgets.readthedocs.io/en/stable/user_install.html\n",
      "  from .autonotebook import tqdm as notebook_tqdm\n"
     ]
    }
   ],
   "source": [
    "# Carga las librerias\n",
    "from deepforest import main\n",
    "from deepforest import get_data\n",
    "from deepforest.visualize import plot_results"
   ]
  },
  {
   "cell_type": "code",
   "execution_count": null,
   "metadata": {},
   "outputs": [],
   "source": [
    "# Inicializa el modelo\n",
    "model = main.deepforest()\n",
    "\n",
    "# Carga el modelo preentrenado desde Hugging Face\n",
    "model.load_model(model_name=\"weecology/deepforest-tree\", revision=\"main\")"
   ]
  },
  {
   "cell_type": "code",
   "execution_count": null,
   "metadata": {},
   "outputs": [],
   "source": [
    "# Imagen de prueba\n",
    "sample_image_path = get_data(\"OSBS_029.png\")\n",
    "\n",
    "# Ver imagen de prueba\n",
    "from PIL import Image\n",
    "img_in = Image.open(sample_image_path)\n",
    "display(img_in)"
   ]
  },
  {
   "cell_type": "code",
   "execution_count": null,
   "metadata": {},
   "outputs": [],
   "source": [
    "# Realiza la detección de árboles usando el modelo preentrenado\n",
    "\n",
    "img_out = model.predict_image(path=sample_image_path)\n",
    "plot_results(img_out)"
   ]
  },
  {
   "cell_type": "code",
   "execution_count": null,
   "metadata": {},
   "outputs": [],
   "source": [
    "print(f\"Número de árboles detectados: {len(img_out)}\")\n"
   ]
  },
  {
   "cell_type": "code",
   "execution_count": null,
   "metadata": {},
   "outputs": [],
   "source": [
    "img_out"
   ]
  },
  {
   "cell_type": "code",
   "execution_count": null,
   "metadata": {},
   "outputs": [],
   "source": [
    "# Muestra uno de los árboles detectados\n",
    "import numpy as np\n",
    "import matplotlib.pyplot as plt\n",
    "\n",
    "bbox = img_out.loc[0][['xmin', 'ymin', 'xmax', 'ymax']]\n",
    "\n",
    "# Convertir la imagen PIL a numpy array\n",
    "img_array = np.array(img_in)\n",
    "\n",
    "# Obtener las coordenadas del bounding box\n",
    "xmin, ymin, xmax, ymax = bbox\n",
    "\n",
    "# Asegurarnos de que las coordenadas son enteros\n",
    "xmin, ymin, xmax, ymax = map(int, [xmin, ymin, xmax, ymax])\n",
    "\n",
    "# Crear una copia del array para no modificar la imagen original\n",
    "img_array = img_array.copy()\n",
    "\n",
    "# Dibujar el rectángulo en el array\n",
    "# Dibujamos las líneas superior e inferior\n",
    "img_array[ymin:ymin+2, xmin:xmax] = [255, 0, 0]  # Línea superior roja\n",
    "img_array[ymax-2:ymax, xmin:xmax] = [255, 0, 0]  # Línea inferior roja\n",
    "# Dibujamos las líneas laterales\n",
    "img_array[ymin:ymax, xmin:xmin+2] = [255, 0, 0]  # Línea izquierda roja\n",
    "img_array[ymin:ymax, xmax-2:xmax] = [255, 0, 0]  # Línea derecha roja\n",
    "\n",
    "# Mostrar la imagen usando matplotlib\n",
    "plt.figure(figsize=(10, 10))\n",
    "plt.imshow(img_array)\n",
    "plt.axis('off')  # Ocultar los ejes\n",
    "plt.show()"
   ]
  },
  {
   "cell_type": "code",
   "execution_count": null,
   "metadata": {},
   "outputs": [],
   "source": [
    "# Convertir la imagen PIL a numpy array\n",
    "img_array = np.array(img_in)\n",
    "\n",
    "# Obtener las coordenadas del bounding box\n",
    "xmin, ymin, xmax, ymax = bbox\n",
    "\n",
    "# Convertir las coordenadas a enteros\n",
    "xmin, ymin, xmax, ymax = map(int, [xmin, ymin, xmax, ymax])\n",
    "\n",
    "# Recortar usando indexado de numpy\n",
    "# Nota: en numpy, el orden es [y, x, canales] para imágenes RGB\n",
    "cropped_array = img_array[ymin:ymax, xmin:xmax]\n",
    "\n",
    "# Convertir de nuevo a imagen PIL para mostrar\n",
    "cropped_img = Image.fromarray(cropped_array)\n",
    "\n",
    "# Mostrar la imagen recortada\n",
    "display(cropped_img)"
   ]
  }
 ],
 "metadata": {
  "kernelspec": {
   "display_name": "DeepForest",
   "language": "python",
   "name": "python3"
  },
  "language_info": {
   "codemirror_mode": {
    "name": "ipython",
    "version": 3
   },
   "file_extension": ".py",
   "mimetype": "text/x-python",
   "name": "python",
   "nbconvert_exporter": "python",
   "pygments_lexer": "ipython3",
   "version": "3.12.11"
  }
 },
 "nbformat": 4,
 "nbformat_minor": 2
}
